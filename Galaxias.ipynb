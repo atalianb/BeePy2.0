{
  "nbformat": 4,
  "nbformat_minor": 0,
  "metadata": {
    "colab": {
      "provenance": [],
      "mount_file_id": "1EE0vUOfXBjqZx1dA8idyh6baA2PaA8ti",
      "authorship_tag": "ABX9TyOYZvWPNnzTtpQo9vvVN0TL",
      "include_colab_link": true
    },
    "kernelspec": {
      "name": "python3",
      "display_name": "Python 3"
    },
    "language_info": {
      "name": "python"
    }
  },
  "cells": [
    {
      "cell_type": "markdown",
      "metadata": {
        "id": "view-in-github",
        "colab_type": "text"
      },
      "source": [
        "<a href=\"https://colab.research.google.com/github/atalianb/BeePy2.0/blob/main/Galaxias.ipynb\" target=\"_parent\"><img src=\"https://colab.research.google.com/assets/colab-badge.svg\" alt=\"Open In Colab\"/></a>"
      ]
    },
    {
      "cell_type": "code",
      "execution_count": 1,
      "metadata": {
        "id": "TdwOxX2pRNdW"
      },
      "outputs": [],
      "source": [
        "import glob\n",
        "import numpy as np\n",
        "import matplotlib.pyplot as plt\n",
        "import scipy\n",
        "import matplotlib.style as style\n",
        "style.use('seaborn-colorblind')"
      ]
    },
    {
      "cell_type": "code",
      "source": [
        "data_path = '/content/drive/MyDrive/data_LBSG/'"
      ],
      "metadata": {
        "id": "qrN2-AVhS_t7"
      },
      "execution_count": 2,
      "outputs": []
    },
    {
      "cell_type": "code",
      "source": [
        "U11454=np.loadtxt(data_path+'U11454.dat')"
      ],
      "metadata": {
        "id": "DHunLa6NRplf"
      },
      "execution_count": 3,
      "outputs": []
    },
    {
      "cell_type": "code",
      "source": [
        "vecRp = np.array([row[1] for row in U11454])# galactocentric distance [kpc]\n",
        "vecvRp = np.array([row[5] for row in U11454])# rotation velocity [km/s]\n",
        "vecerrvRp = np.array([row[6] for row in U11454])# error in rotation velocity [km/s]"
      ],
      "metadata": {
        "id": "AZr31g7OSedO"
      },
      "execution_count": 4,
      "outputs": []
    },
    {
      "cell_type": "code",
      "source": [
        "plt.errorbar(vecRp,vecvRp,yerr=vecerrvRp,fmt='.',label='data')\n",
        "plt.ylabel(r'$v_{c}(r)$[km/s]')\n",
        "plt.xlabel(\"r[kpc]\")\n",
        "plt.legend(loc='lower right')\n",
        "plt.title('U11454')"
      ],
      "metadata": {
        "colab": {
          "base_uri": "https://localhost:8080/",
          "height": 312
        },
        "id": "XK7RUUJ6StX9",
        "outputId": "169a473b-ba8c-4a03-9107-eed5ecc21985"
      },
      "execution_count": 5,
      "outputs": [
        {
          "output_type": "execute_result",
          "data": {
            "text/plain": [
              "Text(0.5, 1.0, 'U11454')"
            ]
          },
          "metadata": {},
          "execution_count": 5
        },
        {
          "output_type": "display_data",
          "data": {
            "text/plain": [
              "<Figure size 432x288 with 1 Axes>"
            ],
            "image/png": "[encoded data removed]"
          },
          "metadata": {
            "needs_background": "light"
          }
        }
      ]
    },
    {
      "cell_type": "markdown",
      "source": [
        "$v_{c}^{2}(r) = 4\\pi G\\rho_{0}r_{0}^{2}\\left[\\frac{1}{r}\\ln{(1+\\frac{r}{r_{0}})} - \\frac{1}{\\frac{r}{r_{0}}+1} \\right]$"
      ],
      "metadata": {
        "id": "KXoCiFEYKisF"
      }
    },
    {
      "cell_type": "code",
      "source": [
        "def NFW(theta,r=vecRp):\n",
        "    R_0, c_NFW = theta\n",
        "    return (c_NFW) * np.sqrt((1/r)*(np.log(1 + (r/R_0)) - ((r/R_0)/(1+(r/R_0)))))\n",
        "truths = (19.0125064 , 1720.97164712) #from curve fit "
      ],
      "metadata": {
        "id": "JHH_xc0ES4IC"
      },
      "execution_count": 6,
      "outputs": []
    },
    {
      "cell_type": "code",
      "source": [
        "def lnlike(theta, x, y, yerr):\n",
        "    return -0.5 * np.sum(((y - NFW(theta, x))/yerr) ** 2)"
      ],
      "metadata": {
        "id": "TAsOUyYpULUQ"
      },
      "execution_count": 7,
      "outputs": []
    },
    {
      "cell_type": "code",
      "source": [
        "def lnprior(theta):\n",
        "    R_0, c_NFW = theta\n",
        "    if 0.0 < R_0 < 50 and 0.0 < c_NFW < 5000: \n",
        "        return 0.0\n",
        "    return -np.inf"
      ],
      "metadata": {
        "id": "t2DAsR7bUX7a"
      },
      "execution_count": 8,
      "outputs": []
    },
    {
      "cell_type": "code",
      "source": [
        "def lnprob(theta, x, y, yerr):\n",
        "    lp = lnprior(theta)\n",
        "    if not np.isfinite(lp):\n",
        "        return -np.inf\n",
        "    return lp + lnlike(theta, x, y, yerr)"
      ],
      "metadata": {
        "id": "kIGZzHXUUYUV"
      },
      "execution_count": 9,
      "outputs": []
    },
    {
      "cell_type": "code",
      "source": [
        "data = (vecRp,vecvRp,vecerrvRp)\n",
        "nwalkers = 300\n",
        "niter = 5000\n",
        "initial = np.array([19.0125064 , 1720.97164712])\n",
        "ndim = len(initial)\n",
        "p0 = [np.array(initial) + 10 * np.random.randn(ndim) for i in range(nwalkers)]"
      ],
      "metadata": {
        "id": "enYn9FMhUfSe"
      },
      "execution_count": 10,
      "outputs": []
    },
    {
      "cell_type": "code",
      "source": [
        "! pip install -U emcee"
      ],
      "metadata": {
        "colab": {
          "base_uri": "https://localhost:8080/"
        },
        "id": "vAyUSLkZVIwO",
        "outputId": "2d03c914-4b7d-4b07-8187-67fef8023872"
      },
      "execution_count": 11,
      "outputs": [
        {
          "output_type": "stream",
          "name": "stdout",
          "text": [
            "Looking in indexes: https://pypi.org/simple, https://us-python.pkg.dev/colab-wheels/public/simple/\n",
            "Requirement already satisfied: emcee in /usr/local/lib/python3.7/dist-packages (3.1.3)\n",
            "Requirement already satisfied: numpy in /usr/local/lib/python3.7/dist-packages (from emcee) (1.21.6)\n"
          ]
        }
      ]
    },
    {
      "cell_type": "code",
      "source": [
        "import emcee"
      ],
      "metadata": {
        "id": "fFVNCNbgVSgX"
      },
      "execution_count": 12,
      "outputs": []
    },
    {
      "cell_type": "code",
      "source": [
        "sampler = emcee.EnsembleSampler(nwalkers, ndim, lnprob, args=data)"
      ],
      "metadata": {
        "id": "fxMrVkfNVU8B"
      },
      "execution_count": 13,
      "outputs": []
    },
    {
      "cell_type": "code",
      "source": [
        "sampler.run_mcmc(p0, 100)"
      ],
      "metadata": {
        "id": "AHs2TC2jUuqi",
        "colab": {
          "base_uri": "https://localhost:8080/"
        },
        "outputId": "ae940ce0-0511-409d-c50e-5f62037ff08d"
      },
      "execution_count": 14,
      "outputs": [
        {
          "output_type": "stream",
          "name": "stderr",
          "text": [
            "/usr/local/lib/python3.7/dist-packages/emcee/moves/red_blue.py:99: RuntimeWarning: invalid value encountered in double_scalars\n",
            "  lnpdiff = f + nlp - state.log_prob[j]\n"
          ]
        },
        {
          "output_type": "execute_result",
          "data": {
            "text/plain": [
              "State([[  18.15036354 1689.19124929]\n",
              " [  18.41668177 1696.99003512]\n",
              " [  22.34196742 1962.52045166]\n",
              " [  26.45385799 2290.58600504]\n",
              " [  25.80294685 2198.02502699]\n",
              " [  15.75500515 1498.3215683 ]\n",
              " [  16.67901635 1553.65957103]\n",
              " [  23.85547717 2059.02398298]\n",
              " [  24.34242005 2084.93680703]\n",
              " [  24.96685421 2184.89165451]\n",
              " [  20.8966034  1854.90033282]\n",
              " [  18.77036781 1699.47806518]\n",
              " [  24.09918151 2081.7866849 ]\n",
              " [  26.25130825 2293.86042175]\n",
              " [  22.91662835 1982.05239999]\n",
              " [  21.74332968 1937.31260289]\n",
              " [  24.30957075 2159.04305539]\n",
              " [  24.55009166 2128.01283618]\n",
              " [  24.92189169 2188.83599367]\n",
              " [  23.05225533 2022.42981829]\n",
              " [  20.40241412 1819.93678618]\n",
              " [  17.65806758 1618.84105959]\n",
              " [  23.66836877 2029.8043076 ]\n",
              " [  16.11850759 1479.84140881]\n",
              " [  19.9166035  1800.83259749]\n",
              " [  17.53285853 1613.04487606]\n",
              " [  15.77142161 1470.28641325]\n",
              " [  21.4857998  1914.3617691 ]\n",
              " [  15.70460315 1484.89067461]\n",
              " [  20.57717501 1855.2521101 ]\n",
              " [  19.89688634 1763.94329343]\n",
              " [  28.4904614  2449.6648467 ]\n",
              " [  27.62104024 2368.89607188]\n",
              " [  16.64856117 1544.02863283]\n",
              " [  27.99586543 2350.17297466]\n",
              " [  24.51889007 2153.76543625]\n",
              " [  18.53369305 1731.30844113]\n",
              " [  16.53596696 1544.1835512 ]\n",
              " [  19.80024115 1759.55694558]\n",
              " [  18.39953312 1643.06288771]\n",
              " [  21.76086263 1943.55140023]\n",
              " [  16.45678395 1555.68337647]\n",
              " [  17.78118148 1625.20861385]\n",
              " [  21.22111803 1906.39378881]\n",
              " [  22.64159002 1953.11632268]\n",
              " [  18.50796871 1668.0069643 ]\n",
              " [  19.72691947 1752.89605069]\n",
              " [  14.25119954 1363.33793022]\n",
              " [  20.90319806 1884.59910841]\n",
              " [  21.05765507 1867.95487355]\n",
              " [  16.92609416 1575.84033407]\n",
              " [  21.46463989 1912.94639389]\n",
              " [  21.84316353 1923.43355527]\n",
              " [  18.69616807 1705.55586285]\n",
              " [  19.5476742  1770.18618692]\n",
              " [  18.5732931  1695.31782376]\n",
              " [  19.57438982 1761.43341236]\n",
              " [  21.44113886 1867.01443656]\n",
              " [  26.67901006 2296.81774844]\n",
              " [  20.98730923 1846.60978608]\n",
              " [  25.57179061 2220.61722222]\n",
              " [  17.79120213 1655.7474318 ]\n",
              " [  21.86353207 1939.34726928]\n",
              " [  32.10905614 2683.55730023]\n",
              " [  21.33242437 1884.80017931]\n",
              " [  19.67397323 1776.31498278]\n",
              " [  23.8153461  2096.11699281]\n",
              " [  14.13192797 1338.71706385]\n",
              " [  19.34987817 1730.50125291]\n",
              " [  24.74351195 2114.58833005]\n",
              " [  17.22657651 1595.94535265]\n",
              " [  48.10117153 3858.60895985]\n",
              " [  23.99372583 2103.10348727]\n",
              " [  25.5569043  2173.3708973 ]\n",
              " [  20.54973691 1834.91323273]\n",
              " [  28.43810874 2404.98512218]\n",
              " [  22.47603464 1949.48011584]\n",
              " [  18.64990857 1702.57255944]\n",
              " [  20.59467883 1843.03016817]\n",
              " [  19.1383444  1758.5509948 ]\n",
              " [  25.49491125 2188.95582138]\n",
              " [  31.48695359 2607.41053639]\n",
              " [  24.86520634 2149.97415006]\n",
              " [  20.47031282 1822.96799661]\n",
              " [  21.46398222 1911.4258651 ]\n",
              " [  17.66384118 1591.50402676]\n",
              " [  17.97503898 1628.63144743]\n",
              " [  27.67085511 2404.51735623]\n",
              " [  23.12274507 2052.30131539]\n",
              " [  15.71894254 1478.23672907]\n",
              " [  22.85660217 2004.30164805]\n",
              " [  21.66931939 1958.27312572]\n",
              " [  26.76690117 2306.33724318]\n",
              " [  23.29447238 2034.65106615]\n",
              " [  18.83214276 1695.87696419]\n",
              " [  23.19664441 2047.70928039]\n",
              " [  21.64456698 1911.15183307]\n",
              " [  17.78877505 1609.6430151 ]\n",
              " [  28.51815744 2432.66273193]\n",
              " [  22.48067575 1976.8274052 ]\n",
              " [  17.03270357 1583.17273247]\n",
              " [  18.12440409 1660.97054299]\n",
              " [  22.43786248 1950.72582547]\n",
              " [  19.6845528  1783.97195288]\n",
              " [  25.60107684 2184.85538282]\n",
              " [  16.51854569 1545.49582393]\n",
              " [  18.6565213  1688.74203509]\n",
              " [  31.18665092 2605.40546201]\n",
              " [  28.79946997 2381.72802129]\n",
              " [  20.51524223 1819.71223132]\n",
              " [  23.40294771 2015.62615487]\n",
              " [  26.41836066 2270.6292256 ]\n",
              " [  30.24333737 2557.05444939]\n",
              " [  35.385589   2928.83289327]\n",
              " [  18.83028347 1695.69492277]\n",
              " [  24.63206427 2125.27531725]\n",
              " [  28.55254973 2443.53851236]\n",
              " [  21.10379163 1891.25269998]\n",
              " [  25.08084777 2192.21009815]\n",
              " [  16.51504594 1528.11566723]\n",
              " [  20.5387337  1821.04011871]\n",
              " [  18.52772281 1674.8421811 ]\n",
              " [  19.64641045 1778.7680996 ]\n",
              " [  18.15586783 1655.8598824 ]\n",
              " [  18.0077242  1658.7418975 ]\n",
              " [  18.99915395 1711.02310321]\n",
              " [  21.88936309 1940.27604284]\n",
              " [  18.53688959 1671.20600933]\n",
              " [  23.58360334 2044.53575105]\n",
              " [  25.49166605 2130.34532987]\n",
              " [  23.85267857 2067.90483699]\n",
              " [  31.26140742 2644.11581073]\n",
              " [  26.3537402  2249.06804666]\n",
              " [  21.24616526 1850.3360666 ]\n",
              " [  15.73983176 1477.41017082]\n",
              " [  25.1601255  2160.08394373]\n",
              " [  15.12534321 1410.26467368]\n",
              " [  25.89362493 2200.49236833]\n",
              " [  31.15865359 2590.93907712]\n",
              " [  24.44473864 2125.39798544]\n",
              " [  20.30201924 1862.81363537]\n",
              " [  28.21447816 2385.98774023]\n",
              " [  17.96544621 1650.23596111]\n",
              " [  26.15757518 2223.26428439]\n",
              " [  17.98677738 1622.80239295]\n",
              " [  37.23576514 2983.33656423]\n",
              " [  22.31623916 1979.06258866]\n",
              " [  18.48103056 1707.52747526]\n",
              " [  18.30943032 1677.15056231]\n",
              " [  20.57784007 1852.11191174]\n",
              " [  18.69533874 1710.92189782]\n",
              " [  13.14163076 1286.61011382]\n",
              " [  20.3883747  1859.26639044]\n",
              " [  17.93065228 1633.00699478]\n",
              " [  18.27855278 1695.4315307 ]\n",
              " [  18.42890268 1686.4283819 ]\n",
              " [  26.69071775 2308.33595479]\n",
              " [  31.65907692 2611.65757515]\n",
              " [  22.3629643  1938.56784869]\n",
              " [  20.22292642 1804.25991   ]\n",
              " [  20.02370514 1813.91877512]\n",
              " [  19.30141775 1723.44282572]\n",
              " [  19.98427192 1752.7753998 ]\n",
              " [  21.76619696 1903.01660357]\n",
              " [  17.43910627 1632.10858879]\n",
              " [  18.23802893 1647.15891518]\n",
              " [  17.50922247 1632.27127114]\n",
              " [  22.1298142  1941.17907794]\n",
              " [  24.41242331 2120.68106917]\n",
              " [  21.24315458 1917.30727621]\n",
              " [  17.9821436  1658.39923731]\n",
              " [  23.99509623 2072.43430082]\n",
              " [  18.90172659 1684.42232695]\n",
              " [  16.57170325 1518.30983919]\n",
              " [  21.73783538 1899.00903827]\n",
              " [  20.79993089 1882.36460555]\n",
              " [  29.63869674 2517.59093309]\n",
              " [  29.9769185  2509.81681961]\n",
              " [  26.28418941 2235.62636971]\n",
              " [  14.19170024 1344.50945837]\n",
              " [  14.79810581 1413.05839841]\n",
              " [  18.13260544 1674.50258156]\n",
              " [  23.24481933 2032.45335997]\n",
              " [  21.5304706  1868.05412176]\n",
              " [  20.63804853 1851.11040952]\n",
              " [  17.4532513  1619.78691524]\n",
              " [  19.48021263 1766.49279153]\n",
              " [  14.84971289 1427.34069724]\n",
              " [  35.73194854 2979.32778303]\n",
              " [  20.61690334 1830.73444543]\n",
              " [  18.1088012  1670.40401856]\n",
              " [  26.92826341 2348.67310081]\n",
              " [  17.66820564 1629.32954337]\n",
              " [  21.13021365 1870.5181299 ]\n",
              " [  21.76488712 1910.80549322]\n",
              " [  20.95730419 1823.60451474]\n",
              " [  19.60442623 1768.97785251]\n",
              " [  25.30775797 2180.6121295 ]\n",
              " [  21.20573497 1901.45629696]\n",
              " [  15.51713016 1468.97882139]\n",
              " [  16.17730969 1505.70081334]\n",
              " [  22.35732143 1976.02121849]\n",
              " [  18.99304538 1684.04366407]\n",
              " [  17.0727006  1604.34243362]\n",
              " [  30.26020907 2533.29225132]\n",
              " [  18.30425012 1660.50412806]\n",
              " [  26.42537431 2297.18602792]\n",
              " [  21.23952647 1894.06301661]\n",
              " [  20.51883437 1869.77892681]\n",
              " [  27.81731102 2367.47521342]\n",
              " [  20.14977095 1762.85939621]\n",
              " [  18.7238201  1722.44910661]\n",
              " [  15.27350995 1427.80358537]\n",
              " [  22.32887355 1963.04203534]\n",
              " [  13.64281617 1317.37081109]\n",
              " [  17.8916551  1634.47286295]\n",
              " [  18.81859993 1667.35280586]\n",
              " [  21.88396652 1913.10270887]\n",
              " [  17.82043517 1636.7516098 ]\n",
              " [  19.03434864 1741.80297931]\n",
              " [  16.33738472 1533.43019261]\n",
              " [  16.60606517 1509.49155803]\n",
              " [  24.32196919 2092.17101157]\n",
              " [  19.60219369 1772.62488561]\n",
              " [  20.57477723 1843.7002825 ]\n",
              " [  21.81403578 1903.26276427]\n",
              " [  24.13768597 2099.38113961]\n",
              " [  28.05601749 2363.36704771]\n",
              " [  24.97630885 2170.3551624 ]\n",
              " [  20.04761482 1770.13437243]\n",
              " [  17.72481019 1632.32014352]\n",
              " [  19.56445608 1793.20100273]\n",
              " [  18.97612735 1727.9474317 ]\n",
              " [  21.1222293  1868.70878056]\n",
              " [  22.08341254 1951.25831008]\n",
              " [  31.16661362 2576.89858333]\n",
              " [  21.37628677 1925.88933354]\n",
              " [  21.13522705 1889.82612302]\n",
              " [  15.51357077 1441.09382063]\n",
              " [  16.17246119 1533.6917672 ]\n",
              " [  24.80969705 2160.53427417]\n",
              " [  24.65110877 2131.37000895]\n",
              " [  26.84952774 2347.29569277]\n",
              " [  30.25103163 2532.68899424]\n",
              " [  22.86795521 2027.72447453]\n",
              " [  16.64564525 1542.67007759]\n",
              " [  24.98186723 2171.23537845]\n",
              " [  16.42115108 1521.30627189]\n",
              " [  23.31216301 2050.98504846]\n",
              " [  17.58261689 1596.95298291]\n",
              " [  15.26289989 1444.65770248]\n",
              " [  17.39063495 1605.54326136]\n",
              " [  27.69905221 2374.18959316]\n",
              " [  22.59622033 1973.40781454]\n",
              " [  20.20602745 1835.67905205]\n",
              " [  21.03039477 1864.46882904]\n",
              " [  20.6035991  1852.95257681]\n",
              " [  20.42227111 1844.53450096]\n",
              " [  22.16928992 1947.78031309]\n",
              " [  19.14135203 1724.67961479]\n",
              " [  23.07957051 2044.4020411 ]\n",
              " [  23.8475861  2075.17582512]\n",
              " [  20.11746207 1811.96493282]\n",
              " [  23.65046881 2097.57674933]\n",
              " [  26.02660811 2255.49438575]\n",
              " [  22.23884305 1951.70930764]\n",
              " [  22.62386985 1988.80961538]\n",
              " [  21.57719095 1909.81951332]\n",
              " [  23.19034664 2028.89382762]\n",
              " [  21.60518127 1939.70904719]\n",
              " [  18.62753555 1682.08332076]\n",
              " [  25.88722203 2212.03756805]\n",
              " [  21.81107602 1900.58822615]\n",
              " [  21.81820282 1924.04832482]\n",
              " [  19.70284508 1756.34358149]\n",
              " [  18.93790864 1708.31970977]\n",
              " [  19.06149764 1713.99934181]\n",
              " [  21.24852302 1929.85538669]\n",
              " [  29.79181469 2515.97356865]\n",
              " [  17.42699754 1640.94001157]\n",
              " [  15.85201289 1496.18436726]\n",
              " [  24.18645087 2090.77036933]\n",
              " [  18.14091875 1634.73794938]\n",
              " [  22.40761048 1935.26009255]\n",
              " [  16.90741673 1559.97720268]\n",
              " [  18.83725244 1708.82855984]\n",
              " [  27.79482011 2378.12890656]\n",
              " [  25.04710806 2179.74737195]\n",
              " [  15.25261976 1429.16563499]\n",
              " [  15.94102192 1511.98462576]\n",
              " [  19.8844465  1776.45034464]\n",
              " [  20.35052752 1758.48207509]\n",
              " [  21.42738558 1932.90470344]\n",
              " [  22.98765445 2014.96527723]\n",
              " [  22.89662132 1987.90694863]\n",
              " [  20.05895568 1764.72685659]\n",
              " [  25.11013303 2193.71171772]\n",
              " [  21.547092   1911.9609854 ]\n",
              " [  23.14154954 1996.8916667 ]\n",
              " [  19.22707008 1735.65158648]], log_prob=[-15.92158043 -15.00890544 -14.82543983 -16.35689924 -16.01922946\n",
              " -15.64930342 -14.77218072 -15.42815891 -15.91959143 -16.1051259\n",
              " -14.59456126 -14.45599313 -15.35510376 -17.25917176 -15.57066731\n",
              " -14.97297495 -17.48773249 -15.34249381 -16.48078408 -14.99540529\n",
              " -14.5242342  -14.53532521 -16.1033941  -16.24212307 -14.69104247\n",
              " -14.54807814 -15.29739463 -14.81115653 -15.21615297 -14.9691236\n",
              " -15.07187478 -17.3633206  -16.46870448 -14.75375053 -16.89671915\n",
              " -16.08363791 -17.34395097 -14.83484503 -14.92941524 -15.96862776\n",
              " -15.17022007 -15.71484529 -14.54828302 -15.21911086 -16.04935688\n",
              " -14.7966278  -14.9918362  -16.07906511 -15.27231847 -14.6057379\n",
              " -14.79134409 -14.81144477 -14.75227652 -14.52465172 -14.57128453\n",
              " -14.50586909 -14.44932423 -15.79963186 -16.11108949 -15.01393998\n",
              " -15.92547807 -15.42180576 -14.81275455 -17.68008673 -14.68272062\n",
              " -14.51017508 -15.63958281 -17.07395874 -14.74380493 -15.99282396\n",
              " -14.67040775 -22.38605884 -15.45817472 -16.21279419 -14.52934515\n",
              " -16.50765642 -15.51368359 -14.5358985  -14.57276739 -15.49738982\n",
              " -15.63973054 -17.8072977  -15.42615523 -14.55075484 -14.77531259\n",
              " -15.89133184 -14.85897759 -18.0420418  -15.84821526 -15.08819137\n",
              " -14.92781519 -16.61497355 -16.21292865 -15.02589533 -14.6262531\n",
              " -15.38212052 -14.69687208 -15.17734607 -16.69869056 -14.84756974\n",
              " -14.75007067 -14.51522354 -15.31310535 -14.68705181 -15.91620369\n",
              " -14.90324676 -14.49083619 -17.37673206 -18.61219078 -14.68605334\n",
              " -15.76082062 -15.91304893 -17.20608523 -18.78140438 -14.62776886\n",
              " -15.41227384 -16.943907   -14.91337923 -16.08547642 -14.90726855\n",
              " -14.69952303 -14.59794243 -14.61037506 -14.47612423 -14.68684545\n",
              " -14.54259792 -14.7997481  -14.74883231 -15.22165063 -19.09457899\n",
              " -15.21897121 -17.85460617 -15.91872443 -15.96447352 -15.08481509\n",
              " -15.61395906 -16.46002657 -16.19161542 -17.52799962 -15.34821203\n",
              " -17.16359512 -16.46298149 -14.54844218 -16.13522    -15.23500461\n",
              " -21.11745885 -15.06300498 -15.37244755 -14.5482784  -14.83644845\n",
              " -14.68264892 -17.15185778 -16.15974111 -14.5930328  -15.61958172\n",
              " -14.55083284 -16.43871561 -18.12865203 -15.64176072 -14.53343265\n",
              " -14.90247234 -14.89920246 -16.41271092 -15.14231521 -15.69124275\n",
              " -14.86661776 -15.29539334 -14.85271708 -15.31845706 -15.79904923\n",
              " -14.7467013  -15.37069697 -15.52478099 -15.61854123 -15.22566086\n",
              " -15.60245173 -17.11950098 -17.07287721 -16.07546586 -16.89987055\n",
              " -15.63338305 -14.95789794 -15.01523023 -16.22800907 -14.67215326\n",
              " -14.84898354 -14.60330463 -15.96651159 -19.49974934 -14.61366709\n",
              " -14.84456878 -17.77287095 -14.60835256 -14.64497138 -14.86847084\n",
              " -16.42735458 -14.47526555 -15.55051382 -15.03601392 -15.25557443\n",
              " -14.96085525 -14.9143464  -16.12372716 -15.74257302 -17.12297349\n",
              " -14.55712148 -16.74097528 -14.7216881  -16.23982947 -16.29871833\n",
              " -16.60562218 -15.14725467 -15.85759176 -14.81652833 -16.66491675\n",
              " -14.51958631 -16.54313593 -15.09963029 -14.52458401 -14.92852456\n",
              " -15.00646053 -16.67460366 -15.56825896 -14.53704746 -14.60486451\n",
              " -15.30075869 -15.2398925  -16.62402163 -15.58797682 -15.36950742\n",
              " -14.57580796 -15.72591524 -14.56002995 -14.6620863  -14.79127036\n",
              " -17.9489151  -15.72467392 -14.79299995 -16.03862017 -15.76396918\n",
              " -15.59884583 -15.37507794 -18.08958615 -17.11931589 -15.49226691\n",
              " -14.7665123  -15.59967591 -14.9343792  -15.23535503 -15.06663623\n",
              " -15.32100847 -14.59640841 -16.48170172 -14.98157647 -15.37393916\n",
              " -14.61536519 -14.80043854 -14.98790613 -14.808055   -14.47972609\n",
              " -15.58799621 -15.15983738 -14.60105373 -16.35486115 -16.10170944\n",
              " -14.83479189 -14.88390272 -14.67534302 -15.00363436 -15.55203559\n",
              " -14.59570409 -15.83647021 -15.42960448 -14.72624625 -14.75433091\n",
              " -14.50422925 -14.58408523 -16.84490548 -16.94898138 -16.65195662\n",
              " -15.15934032 -15.32631055 -15.17310872 -16.07226651 -14.72696741\n",
              " -14.43706758 -16.4402919  -15.71084588 -15.69907431 -15.55022074\n",
              " -14.55929546 -18.93830967 -15.96555071 -14.96084799 -15.25467834\n",
              " -15.82959593 -16.06414466 -14.69577244 -15.69303846 -14.4385221 ], blobs=None, random_state=('MT19937', array([ 544168746, 3010995829, 3331792683, 4253074598,  123002659,\n",
              "       4094917715, 1589229774, 4005242933, 3844268371,  595994234,\n",
              "       3930662415, 4116482679, 1258763156, 2936886953, 2297184314,\n",
              "        921599298, 2519560087, 3080301272, 1856594247,  886640439,\n",
              "        818539795, 1315434784, 1409714594, 2839824533,  384885890,\n",
              "       3691443893, 2905485901, 2767011599, 2997781565, 2975677969,\n",
              "       3411089947, 1728529542,  201747863, 1431549872, 3121070802,\n",
              "       1373102331,   59537924, 4178017048, 2456278100, 3610543720,\n",
              "        185455349, 4228143964, 4105099424, 3518158503, 3330831548,\n",
              "        772328405, 3070459979,  377753101,  313754872, 2932858610,\n",
              "       1089719025, 1225409856, 3662315717, 2887298165, 3609913093,\n",
              "         70041504,  484653616, 3643912738, 1319020762,  701205543,\n",
              "        719326223, 3938350438, 3554734645, 3006843795,   78277382,\n",
              "       2260197306, 3598642774, 3936129943, 3799134389, 3488473784,\n",
              "       4121789538, 2454711608, 2412170091, 3040717102, 4095466421,\n",
              "       1910343266, 2933426638, 1767349643, 4006965096, 2294731494,\n",
              "        763709650,  529858856, 2486158043, 3192873901, 2405719486,\n",
              "       1858047242, 2663873334, 3589061027, 2962319294,  998333722,\n",
              "        802308306, 1411289646,  563336071, 1424960031, 2185690405,\n",
              "       3416890077, 1340220548, 2836320222, 1825547258, 2720340901,\n",
              "       2445754377, 2927128325, 1694003504,  862266494, 3670924640,\n",
              "       2129737606, 3802314376,  996037468, 2566941361, 3955773884,\n",
              "        464990423,  781573890, 1037664637,  342317478, 1053373000,\n",
              "       2428039590,  449094285, 1395090419, 2898852191,  224594714,\n",
              "       1553574296,  228189281, 3093984577, 2929336349, 1082258460,\n",
              "       1785842862,  998236716, 4128809088, 3253113997,  280723068,\n",
              "       2018328690,  876786708,  515080712,  153101922, 1510870991,\n",
              "       2863990807,  226130099, 2106834350,  497717512, 2903811854,\n",
              "       3748978239, 2544485710,  296630218, 1441659821,  343469723,\n",
              "        260548281, 3866158418,  797268363,  275768126, 1404041764,\n",
              "       3237826969, 1878711813, 1832008826,  443470080, 2236382945,\n",
              "       1842228349, 1577672210, 2028908188, 2502574006, 2453202597,\n",
              "       1056313510, 3884115011, 1677551979, 2434838403, 1687934963,\n",
              "       4026552051,  387184505, 2547250982, 2204833102, 2796228300,\n",
              "       1916407507,  792151837,  915598552, 1100754044, 3596982022,\n",
              "       2706975058, 4201628331,  624329234,  990552877,  546873435,\n",
              "       3046116917, 1019569682, 1986414787, 3246189152, 2843944194,\n",
              "       2673165756, 2761105610, 1019452167, 3104370054, 3842114753,\n",
              "       2868309975,  708999484,  253294930, 2750989789,  808756435,\n",
              "       3857818098, 2130714271, 1799161653, 1980964605, 4126199186,\n",
              "       2796916391, 3085381845, 3424213713,  300400141, 3122397898,\n",
              "       3694426706, 1904513395, 2008966564,  544564698,  178360250,\n",
              "       3578203133, 3413261916, 3564463560,  575756821, 1761318242,\n",
              "       3483573886, 2487627103,  349498375, 3762527556, 2946909810,\n",
              "       3375095216,  847521213,  962892266, 1294956112,  601895459,\n",
              "       4182404790, 2539520855,  642184023, 2818199318,  980196487,\n",
              "       2520521121,  794078690, 3043473754,   27044106,  755364902,\n",
              "       3312266156, 2480419001,  490577095, 1339048902, 1707631895,\n",
              "        832090005, 1029460090, 3410631662, 2293232553, 3560991539,\n",
              "       1700210909, 1549467068,  484769299, 1416868436, 3555748789,\n",
              "       1263131390, 1707431022, 1433771920, 2006642221,  135152525,\n",
              "        420649532, 3735645472, 2158616180, 3715045601, 4282904669,\n",
              "        345574527, 4005287326, 1525661089, 3461243283, 3833633796,\n",
              "       2629768415, 4234766139, 4249429089, 2217974069,  873816529,\n",
              "       3238148903, 3933388080, 3307102607,  478643426, 3952840505,\n",
              "       3973855739, 1054359671, 3393399302,  619769857,  796380391,\n",
              "       1225639976,  518137369, 3071431695, 3150347539,  623543406,\n",
              "       2399172642, 3665231112, 2817177496, 1245833873, 3397099463,\n",
              "       3715370630,  418238277, 2435306054,   19165189,  331626280,\n",
              "       2418240208,  659325215, 2291121635,  380983224, 3677968935,\n",
              "       2053757212, 1653421525, 3642449023, 2905809492, 1993554800,\n",
              "         10878678, 2319439418, 1505750049,  616068296, 2344163906,\n",
              "       2935167536, 1835350532, 3206714188,  943732681, 4273840617,\n",
              "        660629628, 3288883616,  228326737, 3671742422, 2406155899,\n",
              "        385494384,  751342340,  276813579, 2603769853, 2308853228,\n",
              "       1900514276, 1277643537,  406786245, 1212683657, 4027199335,\n",
              "       2259408009,  113041810, 2461048615,   53279180, 3931380884,\n",
              "       3038955152,  285396870, 2009356615,  155128900, 1279335997,\n",
              "       2377203281,  833141635,  850583646,  196132995, 4083416472,\n",
              "       4095669637,  698105254, 3108641880, 2415218816, 1008755641,\n",
              "       1854997351, 4051421100, 2293435972, 3476363519,  832734896,\n",
              "       2186768593, 3065973189, 1107690829, 1661152148, 1747961621,\n",
              "       2710553002, 3516178080, 2093763243, 4117890708, 4103179211,\n",
              "       3377318867, 2606086531, 1120791712,  835430324, 2867371395,\n",
              "        128549523,  218797251, 2969886967, 3036159400,  228658572,\n",
              "        318964979,   28391493, 2112936788,  828951591,  150422903,\n",
              "       4158161497, 3313602190,  330745582, 2953798014, 1173484416,\n",
              "       1260260938, 2360122209, 1987402728, 2489858312,  648963125,\n",
              "       1114450251, 3740289378, 2048098119,  567750032,  128806143,\n",
              "       4023915797, 1463575089, 2561838893, 3643158807,  420576311,\n",
              "       1739179405,  576297758,  720051036, 2305319201, 2705927071,\n",
              "       1416074315, 4054652047, 4009798283, 2028810273, 3004164230,\n",
              "       2710798543, 1725127293, 2232665090, 3654909598, 1719953100,\n",
              "        810429325, 4100603972,  870894178, 3114770280, 2153589192,\n",
              "       3002940475,  543443251, 4267378138, 1018866348, 4162231470,\n",
              "       1771550379, 1481262673, 1843487185, 3596208204, 4196504031,\n",
              "       4060298836, 1533113119, 3654755344, 1495449132, 2079182214,\n",
              "       2822457061, 1302178845, 2910710098, 2920832045, 2993474033,\n",
              "       1738527471,  226779844, 3090627157, 3631032678, 1526485264,\n",
              "       3417306509,  919375776, 2293140432,  236469325,  153571087,\n",
              "       2814450745, 2237504301,  186798709,  697405193, 4178386784,\n",
              "        432200543, 2763547002,  453122146, 3259455191, 1629551747,\n",
              "       2597678793, 1493734113, 3592392871,  152619785, 1915450912,\n",
              "       1000762510, 3462984126, 3776228862, 3098597868,  819385973,\n",
              "        244406110, 2461595982, 2233998327, 1640749400,  675187036,\n",
              "       2568254652, 3912826232, 3824128296, 1390835156, 1664168930,\n",
              "       1389628107, 1696166329,   39738099, 1663830894, 4200600004,\n",
              "       1421289266, 3783147588, 3239029368,  589707852, 2096497058,\n",
              "       2877410008, 1713294860, 3042193410,  891169051, 2997370277,\n",
              "       2722521346,  679128104, 2361227274, 2265514123, 3627229602,\n",
              "       1463768634,  272042052, 2349229772, 3414881025, 1436174571,\n",
              "       1163846666, 1704194814,  749014867, 1770830556,  241976566,\n",
              "       3938731236,  392816985, 2871657595, 2193573014, 3312558528,\n",
              "       1852407151, 3858823343, 3261940728, 2306023580, 3011202705,\n",
              "        746223918, 1581761994, 3015682367, 2607133799, 3512640303,\n",
              "       3895693997, 1086447875, 1705749496,  671569054, 1219392119,\n",
              "       1541202237, 1863700947, 1526209904,  379408973, 1318323505,\n",
              "        811591715, 3453099990, 2254816181,  287906172,  904281925,\n",
              "       2147284774,  567734557, 1778742452, 3417206242, 1505122679,\n",
              "        234954285, 3121394576, 3773585886, 3300588723, 4072159039,\n",
              "        776020775, 1870503385,  803774969, 2013965473, 3957516968,\n",
              "       1676643199, 3510107947,  397285153, 3749939857, 3510646291,\n",
              "       1734234954,   17171093, 2931592692,  584179234, 3713049686,\n",
              "        391585368, 2877891881, 1943429873, 1029488310, 2246734370,\n",
              "       2847308618, 3195497435, 2671067389, 1832637201,  350223404,\n",
              "       1339463125, 2265947060, 3319622688, 3495253070,  428918231,\n",
              "       2168935639,   53914096,  448848519, 1823252644, 1780506685,\n",
              "       1309722133, 3180104334, 2806116613, 3308488970, 3308511411,\n",
              "       2378391452, 2718218915, 1006763538, 2102063686, 1066856853,\n",
              "       2840951739, 2185207438, 3116467478, 1222997117, 1210713433,\n",
              "        536010874, 2824571631, 1519697296, 1598940388, 3568557545,\n",
              "        560590295, 3773420862, 1463816924, 1489526462, 4151462218,\n",
              "       3256823060, 2590779348, 2303101139,  395716371, 1285988344,\n",
              "       2083828099, 1666843527, 1753021126, 4216401849, 1135408535,\n",
              "       3686890786, 3928773593, 2882401969,  118214564], dtype=uint32), 531, 0, 0.0))"
            ]
          },
          "metadata": {},
          "execution_count": 14
        }
      ]
    },
    {
      "cell_type": "code",
      "source": [
        "samples = sampler.chain[:, 1500:, :].reshape((-1, ndim))#1500:Burning"
      ],
      "metadata": {
        "id": "COp31YI-WN9q"
      },
      "execution_count": 23,
      "outputs": []
    },
    {
      "cell_type": "code",
      "source": [
        "samples = sampler.flatchain\n",
        "samples[np.argmax(sampler.flatlnprobability)]"
      ],
      "metadata": {
        "colab": {
          "base_uri": "https://localhost:8080/"
        },
        "id": "QFiljr-bVd3K",
        "outputId": "a180392c-b67b-43c1-a9da-10cec99aa2f6"
      },
      "execution_count": 24,
      "outputs": [
        {
          "output_type": "execute_result",
          "data": {
            "text/plain": [
              "array([  19.01271131, 1721.0562781 ])"
            ]
          },
          "metadata": {},
          "execution_count": 24
        }
      ]
    },
    {
      "cell_type": "code",
      "source": [
        "plt.figure()\n",
        "plt.plot(sampler.flatchain[:,0]);\n",
        "plt.figure()\n",
        "plt.plot(sampler.flatchain[:,1]);"
      ],
      "metadata": {
        "colab": {
          "base_uri": "https://localhost:8080/",
          "height": 514
        },
        "id": "MEqoMqkaWWTR",
        "outputId": "7e806a24-3a14-4bbb-9069-b314aff6a82d"
      },
      "execution_count": 25,
      "outputs": [
        {
          "output_type": "display_data",
          "data": {
            "text/plain": [
              "<Figure size 432x288 with 1 Axes>"
            ],
            "image/png": "[encoded data removed]"
          },
          "metadata": {
            "needs_background": "light"
          }
        },
        {
          "output_type": "display_data",
          "data": {
            "text/plain": [
              "<Figure size 432x288 with 1 Axes>"
            ],
            "image/png": "[encoded data removed]"
          },
          "metadata": {
            "needs_background": "light"
          }
        }
      ]
    },
    {
      "cell_type": "code",
      "source": [
        "! python -m pip install corner"
      ],
      "metadata": {
        "colab": {
          "base_uri": "https://localhost:8080/"
        },
        "id": "xNN7tre7WbGQ",
        "outputId": "d70f4d59-1b54-48d5-b82e-f2685dfd255b"
      },
      "execution_count": 26,
      "outputs": [
        {
          "output_type": "stream",
          "name": "stdout",
          "text": [
            "Looking in indexes: https://pypi.org/simple, https://us-python.pkg.dev/colab-wheels/public/simple/\n",
            "Requirement already satisfied: corner in /usr/local/lib/python3.7/dist-packages (2.2.1)\n",
            "Requirement already satisfied: matplotlib>=2.1 in /usr/local/lib/python3.7/dist-packages (from corner) (3.2.2)\n",
            "Requirement already satisfied: pyparsing!=2.0.4,!=2.1.2,!=2.1.6,>=2.0.1 in /usr/local/lib/python3.7/dist-packages (from matplotlib>=2.1->corner) (3.0.9)\n",
            "Requirement already satisfied: numpy>=1.11 in /usr/local/lib/python3.7/dist-packages (from matplotlib>=2.1->corner) (1.21.6)\n",
            "Requirement already satisfied: kiwisolver>=1.0.1 in /usr/local/lib/python3.7/dist-packages (from matplotlib>=2.1->corner) (1.4.4)\n",
            "Requirement already satisfied: python-dateutil>=2.1 in /usr/local/lib/python3.7/dist-packages (from matplotlib>=2.1->corner) (2.8.2)\n",
            "Requirement already satisfied: cycler>=0.10 in /usr/local/lib/python3.7/dist-packages (from matplotlib>=2.1->corner) (0.11.0)\n",
            "Requirement already satisfied: typing-extensions in /usr/local/lib/python3.7/dist-packages (from kiwisolver>=1.0.1->matplotlib>=2.1->corner) (4.1.1)\n",
            "Requirement already satisfied: six>=1.5 in /usr/local/lib/python3.7/dist-packages (from python-dateutil>=2.1->matplotlib>=2.1->corner) (1.15.0)\n"
          ]
        }
      ]
    },
    {
      "cell_type": "code",
      "source": [
        "import corner"
      ],
      "metadata": {
        "id": "yXuIPRROW16w"
      },
      "execution_count": 27,
      "outputs": []
    },
    {
      "cell_type": "code",
      "source": [
        "fig = corner.corner(samples, labels=[\"$R_0$\", \"$c_{NFW}$\"],\n",
        "                     quantiles=[0.16, 0.5, 0.84],\n",
        "    show_titles=True,title_kwargs={\"fontsize\": 12})"
      ],
      "metadata": {
        "colab": {
          "base_uri": "https://localhost:8080/",
          "height": 420
        },
        "id": "e1eaoIQpWhJR",
        "outputId": "2a3761ea-1c0b-4f90-9ca3-cd57844f0dae"
      },
      "execution_count": 28,
      "outputs": [
        {
          "output_type": "stream",
          "name": "stderr",
          "text": [
            "WARNING:root:Too few points to create valid contours\n"
          ]
        },
        {
          "output_type": "display_data",
          "data": {
            "text/plain": [
              "<Figure size 396x396 with 4 Axes>"
            ],
            "image/png": "[encoded data removed]"
          },
          "metadata": {
            "needs_background": "light"
          }
        }
      ]
    },
    {
      "cell_type": "markdown",
      "source": [
        "Nota: juega con el burning y ve que pasa con la triangleplot"
      ],
      "metadata": {
        "id": "4wGHRnNDF-pW"
      }
    },
    {
      "cell_type": "code",
      "source": [
        "samples[np.argmax(sampler.flatlnprobability)]"
      ],
      "metadata": {
        "colab": {
          "base_uri": "https://localhost:8080/"
        },
        "id": "8prO6k6rXcMj",
        "outputId": "14cc571f-93a8-4bf6-9015-7d574eae8aac"
      },
      "execution_count": 21,
      "outputs": [
        {
          "output_type": "execute_result",
          "data": {
            "text/plain": [
              "array([  19.01271131, 1721.0562781 ])"
            ]
          },
          "metadata": {},
          "execution_count": 21
        }
      ]
    },
    {
      "cell_type": "code",
      "source": [
        "plt.errorbar(vecRp,vecvRp,yerr=vecerrvRp,fmt='.',label='data')\n",
        "plt.plot(vecRp,NFW(samples[np.argmax(sampler.flatlnprobability)]),label='result')\n",
        "plt.ylabel(r'$v_{c}(r)$[km/s]')\n",
        "plt.xlabel(\"r[kpc]\")\n",
        "plt.legend(loc='lower right')\n",
        "plt.title('U11454')"
      ],
      "metadata": {
        "colab": {
          "base_uri": "https://localhost:8080/",
          "height": 312
        },
        "id": "lPn58aE_XF0G",
        "outputId": "3401dee9-9214-423d-fc19-c635a63140c7"
      },
      "execution_count": 22,
      "outputs": [
        {
          "output_type": "execute_result",
          "data": {
            "text/plain": [
              "Text(0.5, 1.0, 'U11454')"
            ]
          },
          "metadata": {},
          "execution_count": 22
        },
        {
          "output_type": "display_data",
          "data": {
            "text/plain": [
              "<Figure size 432x288 with 1 Axes>"
            ],
            "image/png": "[encoded data removed]"
          },
          "metadata": {
            "needs_background": "light"
          }
        }
      ]
    },
    {
      "cell_type": "code",
      "source": [],
      "metadata": {
        "id": "-BETA6G5XmBj"
      },
      "execution_count": 22,
      "outputs": []
    }
  ]
}